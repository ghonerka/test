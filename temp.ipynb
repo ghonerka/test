{
  "nbformat": 4,
  "nbformat_minor": 0,
  "metadata": {
    "colab": {
      "name": "temp.ipynb",
      "provenance": [],
      "authorship_tag": "ABX9TyM0zay32ytiPDA6fk6DpDPP",
      "include_colab_link": true
    },
    "kernelspec": {
      "name": "python3",
      "display_name": "Python 3"
    },
    "language_info": {
      "name": "python"
    }
  },
  "cells": [
    {
      "cell_type": "markdown",
      "metadata": {
        "id": "view-in-github",
        "colab_type": "text"
      },
      "source": [
        "<a href=\"https://colab.research.google.com/github/ghonerka/test/blob/main/temp.ipynb\" target=\"_parent\"><img src=\"https://colab.research.google.com/assets/colab-badge.svg\" alt=\"Open In Colab\"/></a>"
      ]
    },
    {
      "cell_type": "markdown",
      "source": [
        "# Notes for Fundamentals of Causal Inference with R"
      ],
      "metadata": {
        "id": "lmFuTC_V5Lbj"
      }
    },
    {
      "cell_type": "markdown",
      "source": [
        "# 1 Introduction"
      ],
      "metadata": {
        "id": "IOzgZz_-5ZNy"
      }
    },
    {
      "cell_type": "markdown",
      "source": [
        "## 1.1 A Brief History"
      ],
      "metadata": {
        "id": "w2_Jm03y5jaK"
      }
    },
    {
      "cell_type": "markdown",
      "source": [
        "## 1.2 Data Examples"
      ],
      "metadata": {
        "id": "c9Ic8Mlh5qwQ"
      }
    },
    {
      "cell_type": "markdown",
      "source": [
        "**Definition:** A **true confounder** is a variable that influences the exposure and also influences the outcome along a directed path that does not include the exposure.  **Confounding** occurs when there is one or more true confounders.\n",
        "\n",
        "The *causal effect* of an exposure cannot be identified without either (a) adjustment involving true confounders, or, (b) adjustment involving other confounders.\n",
        "\n",
        "Data examples and key variables:\n",
        "* Mortality rates by country and age group\n",
        "* NCES College Admissions Data: Math SAT scores, selectivity, and gender\n",
        "* Alcohol Consumption:\n",
        "  * The What-If Study: Naltrexone treatment, reduction in drinking, HIV viral load\n",
        "  * The Double What-If Study: a simulated version with known causal mechanisms\n",
        "* General Social Survey\n",
        "* Cancer Clinical Trial: trial with sequential treatments illustrating time-dependent confounding\n"
      ],
      "metadata": {
        "id": "J74FNfJN5uPs"
      }
    },
    {
      "cell_type": "markdown",
      "source": [
        "# 2 Conditional Probability and Expectation"
      ],
      "metadata": {
        "id": "u88Rfbxp8Cog"
      }
    },
    {
      "cell_type": "markdown",
      "source": [
        "## 2.1 Conditional Probability"
      ],
      "metadata": {
        "id": "N7-x41sj8JR3"
      }
    },
    {
      "cell_type": "markdown",
      "source": [
        ""
      ],
      "metadata": {
        "id": "tiOxuH398VM4"
      }
    }
  ]
}